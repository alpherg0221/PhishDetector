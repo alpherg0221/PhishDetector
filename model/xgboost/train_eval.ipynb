{
 "cells": [
  {
   "cell_type": "code",
   "id": "initial_id",
   "metadata": {
    "collapsed": true,
    "ExecuteTime": {
     "end_time": "2025-01-09T13:45:50.500222Z",
     "start_time": "2025-01-09T13:45:50.496843Z"
    }
   },
   "source": [
    "import numpy as np\n",
    "import optuna.logging\n",
    "import pandas as pd\n",
    "import xgboost as xgb\n",
    "\n",
    "from onnxconverter_common import FloatTensorType\n",
    "from onnxmltools.convert import convert_xgboost\n",
    "from sklearn.metrics import *\n",
    "from sklearn.model_selection import StratifiedKFold, train_test_split\n",
    "\n",
    "optuna.logging.set_verbosity(optuna.logging.WARNING)"
   ],
   "outputs": [],
   "execution_count": 35
  },
  {
   "metadata": {
    "ExecuteTime": {
     "end_time": "2025-01-09T13:45:50.557865Z",
     "start_time": "2025-01-09T13:45:50.549866Z"
    }
   },
   "cell_type": "code",
   "source": [
    "# 特徴量データの読み込み\n",
    "features_and_label: pd.DataFrame = pd.read_csv(\"../feature.csv\").drop(columns=[\"domain\"])\n",
    "\n",
    "# featuresとlabelを分割\n",
    "features = features_and_label.drop(\"label\", axis=1)\n",
    "labels = features_and_label[[\"label\"]]"
   ],
   "id": "fc170f6dd7c4ad54",
   "outputs": [],
   "execution_count": 36
  },
  {
   "metadata": {
    "ExecuteTime": {
     "end_time": "2025-01-09T13:45:50.566630Z",
     "start_time": "2025-01-09T13:45:50.563867Z"
    }
   },
   "cell_type": "code",
   "source": [
    "params = {\n",
    "    \"objective\": \"binary:logistic\",  # 二値分類\n",
    "    \"eval_metric\": \"logloss\",\n",
    "    \"booster\": \"gbtree\",\n",
    "    \"verbosity\": 0,  # 学習途中の情報を表示しない\n",
    "    \"seed\": 42,\n",
    "}"
   ],
   "id": "dee4cc0718e11fdc",
   "outputs": [],
   "execution_count": 37
  },
  {
   "metadata": {
    "ExecuteTime": {
     "end_time": "2025-01-09T13:46:09.158900Z",
     "start_time": "2025-01-09T13:45:50.611561Z"
    }
   },
   "cell_type": "code",
   "source": [
    "# Stratified 5-fold CV\n",
    "\n",
    "cv_scores_columns = [\"accuracy\", \"TPR\", \"TNR\", \"FPR\", \"FNR\", \"F1\", \"AUC\", \"TP\", \"TN\", \"FP\", \"FN\"]\n",
    "history = np.empty((0, 11))\n",
    "\n",
    "kf = StratifiedKFold(n_splits=5, shuffle=True, random_state=42)\n",
    "\n",
    "for train_idx, test_idx in kf.split(features, labels):\n",
    "    _x_train: pd.DataFrame = features.iloc[train_idx, :]  # 学習用特徴量\n",
    "    _y_train: pd.DataFrame = labels.iloc[train_idx, 0]  # 学習用ラベル\n",
    "    x_test: pd.DataFrame = features.iloc[test_idx, :]  # テスト用特徴量\n",
    "    y_test: pd.DataFrame = labels.iloc[test_idx, 0]  # テスト用ラベル\n",
    "    x_train, x_valid, y_train, y_valid = train_test_split(_x_train, _y_train, test_size=0.25, stratify=_y_train,\n",
    "                                                          random_state=42)\n",
    "\n",
    "    dtrain = xgb.DMatrix(x_train, label=y_train, feature_names=features.columns.tolist())\n",
    "    dtest = xgb.DMatrix(x_test, label=y_test, feature_names=features.columns.tolist())\n",
    "    dvalid = xgb.DMatrix(x_valid, label=y_valid, feature_names=features.columns.tolist())\n",
    "\n",
    "    # 訓練\n",
    "    model = xgb.train(\n",
    "        params=params,\n",
    "        dtrain=dtrain,\n",
    "        evals=[(dvalid, 'valid'), (dtrain, 'train')],\n",
    "        early_stopping_rounds=100,\n",
    "        verbose_eval=False,\n",
    "        num_boost_round=10000,\n",
    "    )\n",
    "\n",
    "    # 予測\n",
    "    label_pred_prob = model.predict(dtest)\n",
    "    label_pred = (label_pred_prob > 0.5).astype(int)\n",
    "\n",
    "    # 評価指標の計算\n",
    "    tn, fp, fn, tp = confusion_matrix(y_test, label_pred).flatten()\n",
    "    acc = accuracy_score(y_test, label_pred)\n",
    "    tpr = tp / (tp + fn)  # recall\n",
    "    tnr = tn / (tn + fp)  # specificity\n",
    "    fpr = fp / (tn + fp)\n",
    "    fnr = fn / (tp + fn)\n",
    "    f1 = f1_score(y_test, label_pred)\n",
    "    auc = roc_auc_score(y_test, label_pred_prob)\n",
    "\n",
    "    # 評価結果の格納\n",
    "    history = np.vstack([history, [acc, tpr, tnr, fpr, fnr, f1, auc, tp, tn, fp, fn]])"
   ],
   "id": "3a100ee828876df7",
   "outputs": [],
   "execution_count": 38
  },
  {
   "metadata": {
    "ExecuteTime": {
     "end_time": "2025-01-09T13:46:09.241242Z",
     "start_time": "2025-01-09T13:46:09.228660Z"
    }
   },
   "cell_type": "code",
   "source": [
    "mean = np.mean(history, axis=0)\n",
    "history_final = np.vstack([history, mean])\n",
    "\n",
    "df_cv_scores = pd.DataFrame(history_final, columns=cv_scores_columns, index=[\"1\", \"2\", \"3\", \"4\", \"5\", \"平均\"])\n",
    "df_cv_scores"
   ],
   "id": "58fb993f327ace3c",
   "outputs": [
    {
     "data": {
      "text/plain": [
       "    accuracy       TPR       TNR       FPR       FNR        F1       AUC  \\\n",
       "1   0.979899  0.989950  0.969849  0.030151  0.010050  0.980100  0.993030   \n",
       "2   0.987437  0.994975  0.979899  0.020101  0.005025  0.987531  0.995379   \n",
       "3   0.987437  0.984925  0.989950  0.010050  0.015075  0.987406  0.998384   \n",
       "4   0.967337  0.969849  0.964824  0.035176  0.030151  0.967419  0.992601   \n",
       "5   0.982412  0.989950  0.974874  0.025126  0.010050  0.982544  0.999217   \n",
       "平均  0.980905  0.985930  0.975879  0.024121  0.014070  0.981000  0.995722   \n",
       "\n",
       "       TP     TN   FP   FN  \n",
       "1   197.0  193.0  6.0  2.0  \n",
       "2   198.0  195.0  4.0  1.0  \n",
       "3   196.0  197.0  2.0  3.0  \n",
       "4   193.0  192.0  7.0  6.0  \n",
       "5   197.0  194.0  5.0  2.0  \n",
       "平均  196.2  194.2  4.8  2.8  "
      ],
      "text/html": [
       "<div>\n",
       "<style scoped>\n",
       "    .dataframe tbody tr th:only-of-type {\n",
       "        vertical-align: middle;\n",
       "    }\n",
       "\n",
       "    .dataframe tbody tr th {\n",
       "        vertical-align: top;\n",
       "    }\n",
       "\n",
       "    .dataframe thead th {\n",
       "        text-align: right;\n",
       "    }\n",
       "</style>\n",
       "<table border=\"1\" class=\"dataframe\">\n",
       "  <thead>\n",
       "    <tr style=\"text-align: right;\">\n",
       "      <th></th>\n",
       "      <th>accuracy</th>\n",
       "      <th>TPR</th>\n",
       "      <th>TNR</th>\n",
       "      <th>FPR</th>\n",
       "      <th>FNR</th>\n",
       "      <th>F1</th>\n",
       "      <th>AUC</th>\n",
       "      <th>TP</th>\n",
       "      <th>TN</th>\n",
       "      <th>FP</th>\n",
       "      <th>FN</th>\n",
       "    </tr>\n",
       "  </thead>\n",
       "  <tbody>\n",
       "    <tr>\n",
       "      <th>1</th>\n",
       "      <td>0.979899</td>\n",
       "      <td>0.989950</td>\n",
       "      <td>0.969849</td>\n",
       "      <td>0.030151</td>\n",
       "      <td>0.010050</td>\n",
       "      <td>0.980100</td>\n",
       "      <td>0.993030</td>\n",
       "      <td>197.0</td>\n",
       "      <td>193.0</td>\n",
       "      <td>6.0</td>\n",
       "      <td>2.0</td>\n",
       "    </tr>\n",
       "    <tr>\n",
       "      <th>2</th>\n",
       "      <td>0.987437</td>\n",
       "      <td>0.994975</td>\n",
       "      <td>0.979899</td>\n",
       "      <td>0.020101</td>\n",
       "      <td>0.005025</td>\n",
       "      <td>0.987531</td>\n",
       "      <td>0.995379</td>\n",
       "      <td>198.0</td>\n",
       "      <td>195.0</td>\n",
       "      <td>4.0</td>\n",
       "      <td>1.0</td>\n",
       "    </tr>\n",
       "    <tr>\n",
       "      <th>3</th>\n",
       "      <td>0.987437</td>\n",
       "      <td>0.984925</td>\n",
       "      <td>0.989950</td>\n",
       "      <td>0.010050</td>\n",
       "      <td>0.015075</td>\n",
       "      <td>0.987406</td>\n",
       "      <td>0.998384</td>\n",
       "      <td>196.0</td>\n",
       "      <td>197.0</td>\n",
       "      <td>2.0</td>\n",
       "      <td>3.0</td>\n",
       "    </tr>\n",
       "    <tr>\n",
       "      <th>4</th>\n",
       "      <td>0.967337</td>\n",
       "      <td>0.969849</td>\n",
       "      <td>0.964824</td>\n",
       "      <td>0.035176</td>\n",
       "      <td>0.030151</td>\n",
       "      <td>0.967419</td>\n",
       "      <td>0.992601</td>\n",
       "      <td>193.0</td>\n",
       "      <td>192.0</td>\n",
       "      <td>7.0</td>\n",
       "      <td>6.0</td>\n",
       "    </tr>\n",
       "    <tr>\n",
       "      <th>5</th>\n",
       "      <td>0.982412</td>\n",
       "      <td>0.989950</td>\n",
       "      <td>0.974874</td>\n",
       "      <td>0.025126</td>\n",
       "      <td>0.010050</td>\n",
       "      <td>0.982544</td>\n",
       "      <td>0.999217</td>\n",
       "      <td>197.0</td>\n",
       "      <td>194.0</td>\n",
       "      <td>5.0</td>\n",
       "      <td>2.0</td>\n",
       "    </tr>\n",
       "    <tr>\n",
       "      <th>平均</th>\n",
       "      <td>0.980905</td>\n",
       "      <td>0.985930</td>\n",
       "      <td>0.975879</td>\n",
       "      <td>0.024121</td>\n",
       "      <td>0.014070</td>\n",
       "      <td>0.981000</td>\n",
       "      <td>0.995722</td>\n",
       "      <td>196.2</td>\n",
       "      <td>194.2</td>\n",
       "      <td>4.8</td>\n",
       "      <td>2.8</td>\n",
       "    </tr>\n",
       "  </tbody>\n",
       "</table>\n",
       "</div>"
      ]
     },
     "execution_count": 39,
     "metadata": {},
     "output_type": "execute_result"
    }
   ],
   "execution_count": 39
  },
  {
   "metadata": {
    "ExecuteTime": {
     "end_time": "2025-01-09T13:57:36.488135Z",
     "start_time": "2025-01-09T13:57:31.946138Z"
    }
   },
   "cell_type": "code",
   "source": [
    "# 訓練\n",
    "x_train, x_valid, y_train, y_valid = train_test_split(features, labels, test_size=0.2, stratify=labels, random_state=42)\n",
    "\n",
    "dtrain = xgb.DMatrix(x_train, label=y_train, feature_names=features.columns.tolist())\n",
    "dvalid = xgb.DMatrix(x_valid, label=y_valid, feature_names=features.columns.tolist())\n",
    "\n",
    "# 訓練\n",
    "model = xgb.train(\n",
    "    params=params,\n",
    "    dtrain=dtrain,\n",
    "    evals=[(dvalid, 'valid'), (dtrain, 'train')],\n",
    "    early_stopping_rounds=100,\n",
    "    verbose_eval=False,\n",
    "    num_boost_round=10000,\n",
    ")\n",
    "\n",
    "importance = pd.DataFrame(\n",
    "    model.get_fscore().values(),\n",
    "    index=model.get_fscore().keys(),\n",
    "    columns=['importance']\n",
    ").sort_values(by='importance', ascending=False)\n",
    "\n",
    "importance"
   ],
   "id": "bc8e5df04d702daa",
   "outputs": [
    {
     "data": {
      "text/plain": [
       "                        importance\n",
       "externalLinkPercentage      7424.0\n",
       "TagCountInHeadTag           6717.0\n",
       "scriptTagCount              2950.0\n",
       "noDomainInInternalLink       372.0\n",
       "samePageLinkCount            177.0\n",
       "iframeTagCount                36.0\n",
       "googleAnalytics               23.0\n",
       "noTitle                        2.0"
      ],
      "text/html": [
       "<div>\n",
       "<style scoped>\n",
       "    .dataframe tbody tr th:only-of-type {\n",
       "        vertical-align: middle;\n",
       "    }\n",
       "\n",
       "    .dataframe tbody tr th {\n",
       "        vertical-align: top;\n",
       "    }\n",
       "\n",
       "    .dataframe thead th {\n",
       "        text-align: right;\n",
       "    }\n",
       "</style>\n",
       "<table border=\"1\" class=\"dataframe\">\n",
       "  <thead>\n",
       "    <tr style=\"text-align: right;\">\n",
       "      <th></th>\n",
       "      <th>importance</th>\n",
       "    </tr>\n",
       "  </thead>\n",
       "  <tbody>\n",
       "    <tr>\n",
       "      <th>externalLinkPercentage</th>\n",
       "      <td>7424.0</td>\n",
       "    </tr>\n",
       "    <tr>\n",
       "      <th>TagCountInHeadTag</th>\n",
       "      <td>6717.0</td>\n",
       "    </tr>\n",
       "    <tr>\n",
       "      <th>scriptTagCount</th>\n",
       "      <td>2950.0</td>\n",
       "    </tr>\n",
       "    <tr>\n",
       "      <th>noDomainInInternalLink</th>\n",
       "      <td>372.0</td>\n",
       "    </tr>\n",
       "    <tr>\n",
       "      <th>samePageLinkCount</th>\n",
       "      <td>177.0</td>\n",
       "    </tr>\n",
       "    <tr>\n",
       "      <th>iframeTagCount</th>\n",
       "      <td>36.0</td>\n",
       "    </tr>\n",
       "    <tr>\n",
       "      <th>googleAnalytics</th>\n",
       "      <td>23.0</td>\n",
       "    </tr>\n",
       "    <tr>\n",
       "      <th>noTitle</th>\n",
       "      <td>2.0</td>\n",
       "    </tr>\n",
       "  </tbody>\n",
       "</table>\n",
       "</div>"
      ]
     },
     "execution_count": 42,
     "metadata": {},
     "output_type": "execute_result"
    }
   ],
   "execution_count": 42
  },
  {
   "metadata": {
    "ExecuteTime": {
     "end_time": "2025-01-09T13:57:43.230075Z",
     "start_time": "2025-01-09T13:57:41.423610Z"
    }
   },
   "cell_type": "code",
   "source": [
    "# ONNXへの変換\n",
    "initial_type = [\n",
    "    (\"X\", FloatTensorType([None, 11])),\n",
    "]\n",
    "\n",
    "model_copied = model.copy()\n",
    "model_copied.feature_names = [f\"{num}\" for num in range(len(model.feature_names))]\n",
    "\n",
    "onx = convert_xgboost(model=model_copied, initial_types=initial_type)\n",
    "with open(\"../onnx_model/xgb.onnx\", \"wb\") as f:\n",
    "    f.write(onx.SerializeToString())"
   ],
   "id": "aa99aef88f39c71b",
   "outputs": [],
   "execution_count": 43
  },
  {
   "metadata": {
    "ExecuteTime": {
     "end_time": "2025-01-09T13:57:46.713360Z",
     "start_time": "2025-01-09T13:57:46.107483Z"
    }
   },
   "cell_type": "code",
   "source": [
    "import onnx\n",
    "\n",
    "onnx_model = onnx.load(\"../onnx_model/xgb.onnx\")\n",
    "onnx.checker.check_model(onnx_model)"
   ],
   "id": "435afd1968f1fde1",
   "outputs": [],
   "execution_count": 44
  }
 ],
 "metadata": {
  "kernelspec": {
   "display_name": "Python 3",
   "language": "python",
   "name": "python3"
  },
  "language_info": {
   "codemirror_mode": {
    "name": "ipython",
    "version": 2
   },
   "file_extension": ".py",
   "mimetype": "text/x-python",
   "name": "python",
   "nbconvert_exporter": "python",
   "pygments_lexer": "ipython2",
   "version": "2.7.6"
  }
 },
 "nbformat": 4,
 "nbformat_minor": 5
}
