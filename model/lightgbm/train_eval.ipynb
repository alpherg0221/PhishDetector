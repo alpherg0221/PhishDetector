{
 "cells": [
  {
   "cell_type": "code",
   "id": "initial_id",
   "metadata": {
    "collapsed": true,
    "ExecuteTime": {
     "end_time": "2024-11-27T15:20:35.865892Z",
     "start_time": "2024-11-27T15:20:34.487422Z"
    }
   },
   "source": [
    "import lightgbm as lgb\n",
    "import numpy as np\n",
    "import optuna.integration.lightgbm as olgb\n",
    "import optuna.logging\n",
    "import pandas as pd\n",
    "import psutil\n",
    "\n",
    "from onnxconverter_common import FloatTensorType\n",
    "from onnxmltools.convert import convert_lightgbm\n",
    "from sklearn.metrics import *\n",
    "from sklearn.model_selection import StratifiedKFold, train_test_split\n",
    "\n",
    "optuna.logging.set_verbosity(optuna.logging.WARNING)"
   ],
   "outputs": [
    {
     "name": "stderr",
     "output_type": "stream",
     "text": [
      "C:\\Users\\yuki\\IdeaProjects\\PhishDetector\\model\\.venv\\Lib\\site-packages\\tqdm\\auto.py:21: TqdmWarning: IProgress not found. Please update jupyter and ipywidgets. See https://ipywidgets.readthedocs.io/en/stable/user_install.html\n",
      "  from .autonotebook import tqdm as notebook_tqdm\n"
     ]
    }
   ],
   "execution_count": 1
  },
  {
   "metadata": {
    "ExecuteTime": {
     "end_time": "2024-11-27T15:20:36.178849Z",
     "start_time": "2024-11-27T15:20:36.169920Z"
    }
   },
   "cell_type": "code",
   "source": [
    "# 特徴量データの読み込み\n",
    "features_and_label: pd.DataFrame = pd.read_csv(\"../feature.csv\").drop(columns=[\"domain\"])\n",
    "\n",
    "# featuresとlabelを分割\n",
    "features = features_and_label.drop(\"label\", axis=1)\n",
    "labels = features_and_label[[\"label\"]]\n",
    "\n",
    "# LightGBMの形式に変換\n",
    "train_data = lgb.Dataset(\n",
    "    data=features,\n",
    "    label=labels,\n",
    "    feature_name=features.columns.tolist(),\n",
    ")"
   ],
   "id": "fc170f6dd7c4ad54",
   "outputs": [],
   "execution_count": 2
  },
  {
   "metadata": {
    "ExecuteTime": {
     "end_time": "2024-11-27T15:20:36.184746Z",
     "start_time": "2024-11-27T15:20:36.181849Z"
    }
   },
   "cell_type": "code",
   "source": [
    "params = {\n",
    "    \"num_threads\": psutil.cpu_count() - 1,  # スレッド数\n",
    "    \"objective\": \"binary\",  # 二値分類\n",
    "    \"metric\": \"binary_logloss\",\n",
    "    \"boosting_type\": \"gbdt\",\n",
    "    \"verbosity\": -1,  # 学習途中の情報を表示しない\n",
    "    \"is_unbalance\": True,\n",
    "    \"seed\": 42,\n",
    "}"
   ],
   "id": "b350449e4d6d53cb",
   "outputs": [],
   "execution_count": 3
  },
  {
   "metadata": {
    "ExecuteTime": {
     "end_time": "2024-11-27T15:21:06.694903Z",
     "start_time": "2024-11-27T15:20:36.204617Z"
    }
   },
   "cell_type": "code",
   "source": [
    "# Stratified 5-fold CV\n",
    "\n",
    "cv_scores_columns = [\"accuracy\", \"TPR\", \"TNR\", \"FPR\", \"FNR\", \"F1\", \"AUC\", \"TP\", \"TN\", \"FP\", \"FN\"]\n",
    "history = np.empty((0, 11))\n",
    "\n",
    "kf = StratifiedKFold(n_splits=5, shuffle=True, random_state=42)\n",
    "\n",
    "for train_idx, test_idx in kf.split(features, labels):\n",
    "    x_train = features.iloc[train_idx, :]  # 学習用特徴量\n",
    "    y_train = labels.iloc[train_idx, :]  # 学習用ラベル\n",
    "    x_test = features.iloc[test_idx, :]  # テスト用特徴量\n",
    "    y_test = labels.iloc[test_idx, :]  # テスト用ラベル\n",
    "\n",
    "    dtrain = lgb.Dataset(x_train, label=y_train, feature_name=features.columns.tolist())\n",
    "    dtest = lgb.Dataset(x_test, label=y_test, feature_name=features.columns.tolist())\n",
    "\n",
    "    # 訓練\n",
    "    model = olgb.train(\n",
    "        params=params,\n",
    "        train_set=dtrain,\n",
    "        valid_sets=[dtrain, dtest],\n",
    "        callbacks=[lgb.early_stopping(100, verbose=False)],\n",
    "        num_boost_round=10000,\n",
    "    )\n",
    "\n",
    "    # 予測\n",
    "    label_pred_prob = model.predict(x_test)\n",
    "    label_pred = (label_pred_prob > 0.5).astype(int)\n",
    "\n",
    "    # 評価指標の計算\n",
    "    tn, fp, fn, tp = confusion_matrix(y_test, label_pred).flatten()\n",
    "    acc = accuracy_score(y_test, label_pred)\n",
    "    tpr = tp / (tp + fn)  # recall\n",
    "    tnr = tn / (tn + fp)  # specificity\n",
    "    fpr = fp / (tn + fp)\n",
    "    fnr = fn / (tp + fn)\n",
    "    f1 = f1_score(y_test, label_pred)\n",
    "    auc = roc_auc_score(y_test, label_pred_prob)\n",
    "\n",
    "    # 評価結果の格納\n",
    "    history = np.vstack([history, [acc, tpr, tnr, fpr, fnr, f1, auc, tp, tn, fp, fn]])"
   ],
   "id": "3a100ee828876df7",
   "outputs": [
    {
     "name": "stderr",
     "output_type": "stream",
     "text": [
      "feature_fraction, val_score: 0.027720: 100%|##########| 7/7 [00:00<00:00, 13.19it/s]\n",
      "num_leaves, val_score: 0.026732: 100%|##########| 20/20 [00:02<00:00,  8.77it/s]\n",
      "bagging, val_score: 0.023424: 100%|##########| 10/10 [00:01<00:00,  9.25it/s]\n",
      "feature_fraction_stage2, val_score: 0.023424: 100%|##########| 3/3 [00:00<00:00, 11.79it/s]\n",
      "regularization_factors, val_score: 0.023422: 100%|##########| 20/20 [00:01<00:00, 10.83it/s]\n",
      "min_child_samples, val_score: 0.023265: 100%|##########| 5/5 [00:00<00:00, 11.06it/s]\n",
      "feature_fraction, val_score: 0.083877: 100%|##########| 7/7 [00:00<00:00, 16.88it/s]\n",
      "num_leaves, val_score: 0.083875: 100%|##########| 20/20 [00:01<00:00, 12.93it/s]\n",
      "bagging, val_score: 0.076872: 100%|##########| 10/10 [00:00<00:00, 13.02it/s]\n",
      "feature_fraction_stage2, val_score: 0.076872: 100%|##########| 3/3 [00:00<00:00, 13.57it/s]\n",
      "regularization_factors, val_score: 0.075247: 100%|##########| 20/20 [00:01<00:00, 16.87it/s]\n",
      "min_child_samples, val_score: 0.075247: 100%|##########| 5/5 [00:00<00:00, 20.16it/s]\n",
      "feature_fraction, val_score: 0.012251: 100%|##########| 7/7 [00:00<00:00, 12.39it/s]\n",
      "num_leaves, val_score: 0.008713: 100%|##########| 20/20 [00:02<00:00,  7.58it/s]\n",
      "bagging, val_score: 0.008713: 100%|##########| 10/10 [00:01<00:00,  8.61it/s]\n",
      "feature_fraction_stage2, val_score: 0.008713: 100%|##########| 3/3 [00:00<00:00,  8.47it/s]\n",
      "regularization_factors, val_score: 0.008147: 100%|##########| 20/20 [00:02<00:00,  7.56it/s]\n",
      "min_child_samples, val_score: 0.008147: 100%|##########| 5/5 [00:00<00:00,  8.79it/s]\n",
      "feature_fraction, val_score: 0.052458: 100%|##########| 7/7 [00:00<00:00, 13.12it/s]\n",
      "num_leaves, val_score: 0.052458: 100%|##########| 20/20 [00:01<00:00, 12.15it/s]\n",
      "bagging, val_score: 0.048427: 100%|##########| 10/10 [00:00<00:00, 13.21it/s]\n",
      "feature_fraction_stage2, val_score: 0.048427: 100%|##########| 6/6 [00:00<00:00, 17.86it/s]\n",
      "regularization_factors, val_score: 0.048416: 100%|##########| 20/20 [00:01<00:00, 16.14it/s]\n",
      "min_child_samples, val_score: 0.041265: 100%|##########| 5/5 [00:00<00:00, 17.22it/s]\n",
      "feature_fraction, val_score: 0.014023: 100%|##########| 7/7 [00:00<00:00, 12.81it/s]\n",
      "num_leaves, val_score: 0.013614: 100%|##########| 20/20 [00:02<00:00,  7.79it/s]\n",
      "bagging, val_score: 0.013614: 100%|##########| 10/10 [00:01<00:00,  9.88it/s]\n",
      "feature_fraction_stage2, val_score: 0.013614: 100%|##########| 3/3 [00:00<00:00, 12.69it/s]\n",
      "regularization_factors, val_score: 0.013418: 100%|##########| 20/20 [00:02<00:00,  9.97it/s]\n",
      "min_child_samples, val_score: 0.013191: 100%|##########| 5/5 [00:00<00:00, 11.68it/s]\n"
     ]
    }
   ],
   "execution_count": 4
  },
  {
   "metadata": {
    "ExecuteTime": {
     "end_time": "2024-11-27T15:21:37.300460Z",
     "start_time": "2024-11-27T15:21:37.290640Z"
    }
   },
   "cell_type": "code",
   "source": [
    "mean = np.mean(history, axis=0)\n",
    "history_final = np.vstack([history, mean])\n",
    "\n",
    "df_cv_scores = pd.DataFrame(history_final, columns=cv_scores_columns, index=[\"1\", \"2\", \"3\", \"4\", \"5\", \"平均\"])\n",
    "df_cv_scores"
   ],
   "id": "58fb993f327ace3c",
   "outputs": [
    {
     "data": {
      "text/plain": [
       "    accuracy       TPR       TNR       FPR       FNR        F1       AUC  \\\n",
       "1   0.993958  0.996403  0.981132  0.018868  0.003597  0.996403  0.999186   \n",
       "2   0.975831  0.985612  0.924528  0.075472  0.014388  0.985612  0.977942   \n",
       "3   0.996979  1.000000  0.981132  0.018868  0.000000  0.998205  0.999932   \n",
       "4   0.984894  0.992806  0.943396  0.056604  0.007194  0.991023  0.998507   \n",
       "5   0.996979  0.996403  1.000000  0.000000  0.003597  0.998198  0.999932   \n",
       "平均  0.989728  0.994245  0.966038  0.033962  0.005755  0.993888  0.995100   \n",
       "\n",
       "       TP    TN   FP   FN  \n",
       "1   277.0  52.0  1.0  1.0  \n",
       "2   274.0  49.0  4.0  4.0  \n",
       "3   278.0  52.0  1.0  0.0  \n",
       "4   276.0  50.0  3.0  2.0  \n",
       "5   277.0  53.0  0.0  1.0  \n",
       "平均  276.4  51.2  1.8  1.6  "
      ],
      "text/html": [
       "<div>\n",
       "<style scoped>\n",
       "    .dataframe tbody tr th:only-of-type {\n",
       "        vertical-align: middle;\n",
       "    }\n",
       "\n",
       "    .dataframe tbody tr th {\n",
       "        vertical-align: top;\n",
       "    }\n",
       "\n",
       "    .dataframe thead th {\n",
       "        text-align: right;\n",
       "    }\n",
       "</style>\n",
       "<table border=\"1\" class=\"dataframe\">\n",
       "  <thead>\n",
       "    <tr style=\"text-align: right;\">\n",
       "      <th></th>\n",
       "      <th>accuracy</th>\n",
       "      <th>TPR</th>\n",
       "      <th>TNR</th>\n",
       "      <th>FPR</th>\n",
       "      <th>FNR</th>\n",
       "      <th>F1</th>\n",
       "      <th>AUC</th>\n",
       "      <th>TP</th>\n",
       "      <th>TN</th>\n",
       "      <th>FP</th>\n",
       "      <th>FN</th>\n",
       "    </tr>\n",
       "  </thead>\n",
       "  <tbody>\n",
       "    <tr>\n",
       "      <th>1</th>\n",
       "      <td>0.993958</td>\n",
       "      <td>0.996403</td>\n",
       "      <td>0.981132</td>\n",
       "      <td>0.018868</td>\n",
       "      <td>0.003597</td>\n",
       "      <td>0.996403</td>\n",
       "      <td>0.999186</td>\n",
       "      <td>277.0</td>\n",
       "      <td>52.0</td>\n",
       "      <td>1.0</td>\n",
       "      <td>1.0</td>\n",
       "    </tr>\n",
       "    <tr>\n",
       "      <th>2</th>\n",
       "      <td>0.975831</td>\n",
       "      <td>0.985612</td>\n",
       "      <td>0.924528</td>\n",
       "      <td>0.075472</td>\n",
       "      <td>0.014388</td>\n",
       "      <td>0.985612</td>\n",
       "      <td>0.977942</td>\n",
       "      <td>274.0</td>\n",
       "      <td>49.0</td>\n",
       "      <td>4.0</td>\n",
       "      <td>4.0</td>\n",
       "    </tr>\n",
       "    <tr>\n",
       "      <th>3</th>\n",
       "      <td>0.996979</td>\n",
       "      <td>1.000000</td>\n",
       "      <td>0.981132</td>\n",
       "      <td>0.018868</td>\n",
       "      <td>0.000000</td>\n",
       "      <td>0.998205</td>\n",
       "      <td>0.999932</td>\n",
       "      <td>278.0</td>\n",
       "      <td>52.0</td>\n",
       "      <td>1.0</td>\n",
       "      <td>0.0</td>\n",
       "    </tr>\n",
       "    <tr>\n",
       "      <th>4</th>\n",
       "      <td>0.984894</td>\n",
       "      <td>0.992806</td>\n",
       "      <td>0.943396</td>\n",
       "      <td>0.056604</td>\n",
       "      <td>0.007194</td>\n",
       "      <td>0.991023</td>\n",
       "      <td>0.998507</td>\n",
       "      <td>276.0</td>\n",
       "      <td>50.0</td>\n",
       "      <td>3.0</td>\n",
       "      <td>2.0</td>\n",
       "    </tr>\n",
       "    <tr>\n",
       "      <th>5</th>\n",
       "      <td>0.996979</td>\n",
       "      <td>0.996403</td>\n",
       "      <td>1.000000</td>\n",
       "      <td>0.000000</td>\n",
       "      <td>0.003597</td>\n",
       "      <td>0.998198</td>\n",
       "      <td>0.999932</td>\n",
       "      <td>277.0</td>\n",
       "      <td>53.0</td>\n",
       "      <td>0.0</td>\n",
       "      <td>1.0</td>\n",
       "    </tr>\n",
       "    <tr>\n",
       "      <th>平均</th>\n",
       "      <td>0.989728</td>\n",
       "      <td>0.994245</td>\n",
       "      <td>0.966038</td>\n",
       "      <td>0.033962</td>\n",
       "      <td>0.005755</td>\n",
       "      <td>0.993888</td>\n",
       "      <td>0.995100</td>\n",
       "      <td>276.4</td>\n",
       "      <td>51.2</td>\n",
       "      <td>1.8</td>\n",
       "      <td>1.6</td>\n",
       "    </tr>\n",
       "  </tbody>\n",
       "</table>\n",
       "</div>"
      ]
     },
     "execution_count": 9,
     "metadata": {},
     "output_type": "execute_result"
    }
   ],
   "execution_count": 9
  },
  {
   "metadata": {
    "ExecuteTime": {
     "end_time": "2024-11-27T15:21:15.263303Z",
     "start_time": "2024-11-27T15:21:06.772130Z"
    }
   },
   "cell_type": "code",
   "source": [
    "# 訓練\n",
    "x_train, x_valid, y_train, y_valid = train_test_split(features, labels, test_size=0.2, stratify=labels)\n",
    "\n",
    "dtrain = lgb.Dataset(x_train, label=y_train, feature_name=features.columns.tolist())\n",
    "dvalid = lgb.Dataset(x_valid, label=y_valid, feature_name=features.columns.tolist())\n",
    "\n",
    "# 訓練\n",
    "model = olgb.train(\n",
    "    params=params,\n",
    "    train_set=dtrain,\n",
    "    valid_sets=[dtrain, dvalid],\n",
    "    callbacks=[lgb.early_stopping(100, verbose=False)],\n",
    "    num_boost_round=10000,\n",
    ")\n",
    "\n",
    "importance = pd.DataFrame(\n",
    "    model.feature_importance(),\n",
    "    index=features.columns.tolist(),\n",
    "    columns=['importance']\n",
    ").sort_values(by='importance', ascending=False)\n",
    "\n",
    "importance"
   ],
   "id": "bc8e5df04d702daa",
   "outputs": [
    {
     "name": "stderr",
     "output_type": "stream",
     "text": [
      "feature_fraction, val_score: 0.021545: 100%|##########| 7/7 [00:00<00:00,  9.41it/s]\n",
      "num_leaves, val_score: 0.021545: 100%|##########| 20/20 [00:02<00:00,  6.78it/s]\n",
      "bagging, val_score: 0.021545: 100%|##########| 10/10 [00:01<00:00,  8.34it/s]\n",
      "feature_fraction_stage2, val_score: 0.021545: 100%|##########| 3/3 [00:00<00:00,  9.56it/s]\n",
      "regularization_factors, val_score: 0.021545: 100%|##########| 20/20 [00:02<00:00,  7.40it/s]\n",
      "min_child_samples, val_score: 0.021545: 100%|##########| 5/5 [00:00<00:00,  8.96it/s]\n"
     ]
    },
    {
     "data": {
      "text/plain": [
       "                        importance\n",
       "TagCountInHeadTag             2034\n",
       "externalLinkPercentage        1287\n",
       "scriptTagCount                 431\n",
       "samePageLinkCount              418\n",
       "noDomainInInternalLink         293\n",
       "googleAnalytics                 89\n",
       "iframeTagCount                  84\n",
       "invalidKiyaku                   61\n",
       "noTitle                         19\n",
       "copy                             9\n",
       "ipAddressInLink                  0"
      ],
      "text/html": [
       "<div>\n",
       "<style scoped>\n",
       "    .dataframe tbody tr th:only-of-type {\n",
       "        vertical-align: middle;\n",
       "    }\n",
       "\n",
       "    .dataframe tbody tr th {\n",
       "        vertical-align: top;\n",
       "    }\n",
       "\n",
       "    .dataframe thead th {\n",
       "        text-align: right;\n",
       "    }\n",
       "</style>\n",
       "<table border=\"1\" class=\"dataframe\">\n",
       "  <thead>\n",
       "    <tr style=\"text-align: right;\">\n",
       "      <th></th>\n",
       "      <th>importance</th>\n",
       "    </tr>\n",
       "  </thead>\n",
       "  <tbody>\n",
       "    <tr>\n",
       "      <th>TagCountInHeadTag</th>\n",
       "      <td>2034</td>\n",
       "    </tr>\n",
       "    <tr>\n",
       "      <th>externalLinkPercentage</th>\n",
       "      <td>1287</td>\n",
       "    </tr>\n",
       "    <tr>\n",
       "      <th>scriptTagCount</th>\n",
       "      <td>431</td>\n",
       "    </tr>\n",
       "    <tr>\n",
       "      <th>samePageLinkCount</th>\n",
       "      <td>418</td>\n",
       "    </tr>\n",
       "    <tr>\n",
       "      <th>noDomainInInternalLink</th>\n",
       "      <td>293</td>\n",
       "    </tr>\n",
       "    <tr>\n",
       "      <th>googleAnalytics</th>\n",
       "      <td>89</td>\n",
       "    </tr>\n",
       "    <tr>\n",
       "      <th>iframeTagCount</th>\n",
       "      <td>84</td>\n",
       "    </tr>\n",
       "    <tr>\n",
       "      <th>invalidKiyaku</th>\n",
       "      <td>61</td>\n",
       "    </tr>\n",
       "    <tr>\n",
       "      <th>noTitle</th>\n",
       "      <td>19</td>\n",
       "    </tr>\n",
       "    <tr>\n",
       "      <th>copy</th>\n",
       "      <td>9</td>\n",
       "    </tr>\n",
       "    <tr>\n",
       "      <th>ipAddressInLink</th>\n",
       "      <td>0</td>\n",
       "    </tr>\n",
       "  </tbody>\n",
       "</table>\n",
       "</div>"
      ]
     },
     "execution_count": 6,
     "metadata": {},
     "output_type": "execute_result"
    }
   ],
   "execution_count": 6
  },
  {
   "metadata": {
    "ExecuteTime": {
     "end_time": "2024-11-27T15:21:15.619737Z",
     "start_time": "2024-11-27T15:21:15.298621Z"
    }
   },
   "cell_type": "code",
   "source": [
    "# ONNXへの変換\n",
    "initial_type = [\n",
    "    (\"X\", FloatTensorType([None, 11])),\n",
    "]\n",
    "onx = convert_lightgbm(model=model, initial_types=initial_type, zipmap=False)\n",
    "with open(\"../onnx_model/lightgbm.onnx\", \"wb\") as f:\n",
    "    f.write(onx.SerializeToString())"
   ],
   "id": "aa99aef88f39c71b",
   "outputs": [
    {
     "name": "stderr",
     "output_type": "stream",
     "text": [
      "The maximum opset needed by this model is only 9.\n"
     ]
    }
   ],
   "execution_count": 7
  },
  {
   "metadata": {
    "ExecuteTime": {
     "end_time": "2024-11-27T15:21:15.806739Z",
     "start_time": "2024-11-27T15:21:15.642913Z"
    }
   },
   "cell_type": "code",
   "source": [
    "import onnx\n",
    "onnx_model = onnx.load(\"../onnx_model/lightgbm.onnx\")\n",
    "onnx.checker.check_model(onnx_model)"
   ],
   "id": "435afd1968f1fde1",
   "outputs": [],
   "execution_count": 8
  }
 ],
 "metadata": {
  "kernelspec": {
   "display_name": "Python 3",
   "language": "python",
   "name": "python3"
  },
  "language_info": {
   "codemirror_mode": {
    "name": "ipython",
    "version": 2
   },
   "file_extension": ".py",
   "mimetype": "text/x-python",
   "name": "python",
   "nbconvert_exporter": "python",
   "pygments_lexer": "ipython2",
   "version": "2.7.6"
  }
 },
 "nbformat": 4,
 "nbformat_minor": 5
}
