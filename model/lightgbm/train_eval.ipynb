{
 "cells": [
  {
   "cell_type": "code",
   "id": "initial_id",
   "metadata": {
    "collapsed": true,
    "ExecuteTime": {
     "end_time": "2025-01-09T14:20:01.035659Z",
     "start_time": "2025-01-09T14:19:59.933750Z"
    }
   },
   "source": [
    "import lightgbm as lgb\n",
    "import numpy as np\n",
    "import optuna.integration.lightgbm as olgb\n",
    "import optuna.logging\n",
    "import pandas as pd\n",
    "import psutil\n",
    "\n",
    "from onnxconverter_common import FloatTensorType\n",
    "from onnxmltools.convert import convert_lightgbm\n",
    "from sklearn.metrics import *\n",
    "from sklearn.model_selection import StratifiedKFold, train_test_split\n",
    "\n",
    "optuna.logging.set_verbosity(optuna.logging.WARNING)"
   ],
   "outputs": [
    {
     "name": "stderr",
     "output_type": "stream",
     "text": [
      "C:\\Users\\yuki\\IdeaProjects\\PhishDetector\\model\\.venv\\Lib\\site-packages\\tqdm\\auto.py:21: TqdmWarning: IProgress not found. Please update jupyter and ipywidgets. See https://ipywidgets.readthedocs.io/en/stable/user_install.html\n",
      "  from .autonotebook import tqdm as notebook_tqdm\n"
     ]
    }
   ],
   "execution_count": 1
  },
  {
   "metadata": {
    "ExecuteTime": {
     "end_time": "2025-01-09T14:20:01.127194Z",
     "start_time": "2025-01-09T14:20:01.117674Z"
    }
   },
   "cell_type": "code",
   "source": [
    "# 特徴量データの読み込み\n",
    "features_and_label: pd.DataFrame = pd.read_csv(\"../feature.csv\").drop(columns=[\"domain\"])\n",
    "\n",
    "# featuresとlabelを分割\n",
    "features = features_and_label.drop(\"label\", axis=1)\n",
    "labels = features_and_label[[\"label\"]]\n",
    "\n",
    "# LightGBMの形式に変換\n",
    "train_data = lgb.Dataset(\n",
    "    data=features,\n",
    "    label=labels,\n",
    "    feature_name=features.columns.tolist(),\n",
    ")"
   ],
   "id": "fc170f6dd7c4ad54",
   "outputs": [],
   "execution_count": 2
  },
  {
   "metadata": {
    "ExecuteTime": {
     "end_time": "2025-01-09T14:20:01.201812Z",
     "start_time": "2025-01-09T14:20:01.198395Z"
    }
   },
   "cell_type": "code",
   "source": [
    "params = {\n",
    "    \"num_threads\": psutil.cpu_count() - 1,  # スレッド数\n",
    "    \"objective\": \"binary\",  # 二値分類\n",
    "    \"metric\": \"binary_logloss\",\n",
    "    \"boosting_type\": \"gbdt\",\n",
    "    \"verbosity\": -1,  # 学習途中の情報を表示しない\n",
    "    \"seed\": 42,\n",
    "}"
   ],
   "id": "b350449e4d6d53cb",
   "outputs": [],
   "execution_count": 3
  },
  {
   "metadata": {
    "ExecuteTime": {
     "end_time": "2025-01-09T14:20:33.381289Z",
     "start_time": "2025-01-09T14:20:01.205808Z"
    }
   },
   "cell_type": "code",
   "source": [
    "# Stratified 5-fold CV\n",
    "\n",
    "cv_scores_columns = [\"accuracy\", \"TPR\", \"TNR\", \"FPR\", \"FNR\", \"F1\", \"AUC\", \"TP\", \"TN\", \"FP\", \"FN\"]\n",
    "history = np.empty((0, 11))\n",
    "\n",
    "kf = StratifiedKFold(n_splits=5, shuffle=True, random_state=42)\n",
    "\n",
    "for train_idx, test_idx in kf.split(features, labels):\n",
    "    _x_train = features.iloc[train_idx, :]  # 学習用特徴量\n",
    "    _y_train = labels.iloc[train_idx, :]  # 学習用ラベル\n",
    "    x_test = features.iloc[test_idx, :]  # テスト用特徴量\n",
    "    y_test = labels.iloc[test_idx, :]  # テスト用ラベル\n",
    "    x_train, x_valid, y_train, y_valid = train_test_split(_x_train, _y_train, test_size=0.25, stratify=_y_train, random_state=42)\n",
    "\n",
    "    dtrain = lgb.Dataset(x_train, label=y_train, feature_name=features.columns.tolist())\n",
    "    dtest = lgb.Dataset(x_test, label=y_test, feature_name=features.columns.tolist())\n",
    "    dvalid = lgb.Dataset(x_valid, label=y_valid, feature_name=features.columns.tolist())\n",
    "\n",
    "    # 訓練\n",
    "    model = olgb.train(\n",
    "        params=params,\n",
    "        train_set=dtrain,\n",
    "        valid_sets=[dtrain, dvalid],\n",
    "        callbacks=[lgb.early_stopping(100, verbose=False)],\n",
    "        num_boost_round=10000,\n",
    "    )\n",
    "\n",
    "    # 予測\n",
    "    label_pred_prob = model.predict(x_test)\n",
    "    label_pred = (label_pred_prob > 0.5).astype(int)\n",
    "\n",
    "    # 評価指標の計算\n",
    "    tn, fp, fn, tp = confusion_matrix(y_test, label_pred).flatten()\n",
    "    acc = accuracy_score(y_test, label_pred)\n",
    "    tpr = tp / (tp + fn)  # recall\n",
    "    tnr = tn / (tn + fp)  # specificity\n",
    "    fpr = fp / (tn + fp)\n",
    "    fnr = fn / (tp + fn)\n",
    "    f1 = f1_score(y_test, label_pred)\n",
    "    auc = roc_auc_score(y_test, label_pred_prob)\n",
    "\n",
    "    # 評価結果の格納\n",
    "    history = np.vstack([history, [acc, tpr, tnr, fpr, fnr, f1, auc, tp, tn, fp, fn]])"
   ],
   "id": "3a100ee828876df7",
   "outputs": [
    {
     "name": "stderr",
     "output_type": "stream",
     "text": [
      "feature_fraction, val_score: 0.051053: 100%|##########| 7/7 [00:00<00:00, 11.49it/s]\n",
      "num_leaves, val_score: 0.050823: 100%|##########| 20/20 [00:02<00:00,  9.22it/s]\n",
      "bagging, val_score: 0.048987: 100%|##########| 10/10 [00:00<00:00, 11.86it/s]\n",
      "feature_fraction_stage2, val_score: 0.048987: 100%|##########| 6/6 [00:00<00:00, 13.27it/s]\n",
      "regularization_factors, val_score: 0.048502: 100%|##########| 20/20 [00:01<00:00, 12.09it/s]\n",
      "min_child_samples, val_score: 0.048502: 100%|##########| 5/5 [00:00<00:00, 14.62it/s]\n",
      "feature_fraction, val_score: 0.068973: 100%|##########| 7/7 [00:00<00:00, 12.50it/s]\n",
      "num_leaves, val_score: 0.068144: 100%|##########| 20/20 [00:02<00:00,  9.09it/s]\n",
      "bagging, val_score: 0.065410: 100%|##########| 10/10 [00:01<00:00,  8.65it/s]\n",
      "feature_fraction_stage2, val_score: 0.063819: 100%|##########| 6/6 [00:00<00:00,  9.12it/s]\n",
      "regularization_factors, val_score: 0.061022: 100%|##########| 20/20 [00:01<00:00, 11.34it/s]\n",
      "min_child_samples, val_score: 0.060199: 100%|##########| 5/5 [00:00<00:00, 12.95it/s]\n",
      "feature_fraction, val_score: 0.055070: 100%|##########| 7/7 [00:00<00:00, 12.22it/s]\n",
      "num_leaves, val_score: 0.055070: 100%|##########| 20/20 [00:02<00:00,  9.94it/s]\n",
      "bagging, val_score: 0.051835: 100%|##########| 10/10 [00:00<00:00, 11.23it/s]\n",
      "feature_fraction_stage2, val_score: 0.051435: 100%|##########| 6/6 [00:00<00:00, 11.79it/s]\n",
      "regularization_factors, val_score: 0.051430: 100%|##########| 20/20 [00:01<00:00, 11.73it/s]\n",
      "min_child_samples, val_score: 0.051430: 100%|##########| 5/5 [00:00<00:00, 13.26it/s]\n",
      "feature_fraction, val_score: 0.047312: 100%|##########| 7/7 [00:00<00:00, 11.04it/s]\n",
      "num_leaves, val_score: 0.047312: 100%|##########| 20/20 [00:02<00:00,  9.01it/s]\n",
      "bagging, val_score: 0.047312: 100%|##########| 10/10 [00:01<00:00,  9.63it/s]\n",
      "feature_fraction_stage2, val_score: 0.047312: 100%|##########| 3/3 [00:00<00:00, 11.90it/s]\n",
      "regularization_factors, val_score: 0.047312: 100%|##########| 20/20 [00:01<00:00, 10.66it/s]\n",
      "min_child_samples, val_score: 0.046007: 100%|##########| 5/5 [00:00<00:00, 12.25it/s]\n",
      "feature_fraction, val_score: 0.049145: 100%|##########| 7/7 [00:00<00:00,  9.87it/s]\n",
      "num_leaves, val_score: 0.047056: 100%|##########| 20/20 [00:02<00:00,  8.99it/s]\n",
      "bagging, val_score: 0.045381: 100%|##########| 10/10 [00:01<00:00,  9.95it/s]\n",
      "feature_fraction_stage2, val_score: 0.045381: 100%|##########| 3/3 [00:00<00:00, 12.20it/s]\n",
      "regularization_factors, val_score: 0.044568: 100%|##########| 20/20 [00:02<00:00,  9.54it/s]\n",
      "min_child_samples, val_score: 0.044265: 100%|##########| 5/5 [00:00<00:00, 11.68it/s]\n"
     ]
    }
   ],
   "execution_count": 4
  },
  {
   "metadata": {
    "ExecuteTime": {
     "end_time": "2025-01-09T14:20:33.428588Z",
     "start_time": "2025-01-09T14:20:33.407588Z"
    }
   },
   "cell_type": "code",
   "source": [
    "mean = np.mean(history, axis=0)\n",
    "history_final = np.vstack([history, mean])\n",
    "\n",
    "df_cv_scores = pd.DataFrame(history_final, columns=cv_scores_columns, index=[\"1\", \"2\", \"3\", \"4\", \"5\", \"平均\"])\n",
    "df_cv_scores"
   ],
   "id": "58fb993f327ace3c",
   "outputs": [
    {
     "data": {
      "text/plain": [
       "    accuracy       TPR       TNR       FPR       FNR        F1       AUC  \\\n",
       "1   0.982412  0.984925  0.979899  0.020101  0.015075  0.982456  0.996136   \n",
       "2   0.989950  0.994975  0.984925  0.015075  0.005025  0.990000  0.998990   \n",
       "3   0.984925  0.984925  0.984925  0.015075  0.015075  0.984925  0.998687   \n",
       "4   0.969849  0.964824  0.974874  0.025126  0.035176  0.969697  0.993510   \n",
       "5   0.994975  0.994975  0.994975  0.005025  0.005025  0.994975  0.999823   \n",
       "平均  0.984422  0.984925  0.983920  0.016080  0.015075  0.984411  0.997429   \n",
       "\n",
       "       TP     TN   FP   FN  \n",
       "1   196.0  195.0  4.0  3.0  \n",
       "2   198.0  196.0  3.0  1.0  \n",
       "3   196.0  196.0  3.0  3.0  \n",
       "4   192.0  194.0  5.0  7.0  \n",
       "5   198.0  198.0  1.0  1.0  \n",
       "平均  196.0  195.8  3.2  3.0  "
      ],
      "text/html": [
       "<div>\n",
       "<style scoped>\n",
       "    .dataframe tbody tr th:only-of-type {\n",
       "        vertical-align: middle;\n",
       "    }\n",
       "\n",
       "    .dataframe tbody tr th {\n",
       "        vertical-align: top;\n",
       "    }\n",
       "\n",
       "    .dataframe thead th {\n",
       "        text-align: right;\n",
       "    }\n",
       "</style>\n",
       "<table border=\"1\" class=\"dataframe\">\n",
       "  <thead>\n",
       "    <tr style=\"text-align: right;\">\n",
       "      <th></th>\n",
       "      <th>accuracy</th>\n",
       "      <th>TPR</th>\n",
       "      <th>TNR</th>\n",
       "      <th>FPR</th>\n",
       "      <th>FNR</th>\n",
       "      <th>F1</th>\n",
       "      <th>AUC</th>\n",
       "      <th>TP</th>\n",
       "      <th>TN</th>\n",
       "      <th>FP</th>\n",
       "      <th>FN</th>\n",
       "    </tr>\n",
       "  </thead>\n",
       "  <tbody>\n",
       "    <tr>\n",
       "      <th>1</th>\n",
       "      <td>0.982412</td>\n",
       "      <td>0.984925</td>\n",
       "      <td>0.979899</td>\n",
       "      <td>0.020101</td>\n",
       "      <td>0.015075</td>\n",
       "      <td>0.982456</td>\n",
       "      <td>0.996136</td>\n",
       "      <td>196.0</td>\n",
       "      <td>195.0</td>\n",
       "      <td>4.0</td>\n",
       "      <td>3.0</td>\n",
       "    </tr>\n",
       "    <tr>\n",
       "      <th>2</th>\n",
       "      <td>0.989950</td>\n",
       "      <td>0.994975</td>\n",
       "      <td>0.984925</td>\n",
       "      <td>0.015075</td>\n",
       "      <td>0.005025</td>\n",
       "      <td>0.990000</td>\n",
       "      <td>0.998990</td>\n",
       "      <td>198.0</td>\n",
       "      <td>196.0</td>\n",
       "      <td>3.0</td>\n",
       "      <td>1.0</td>\n",
       "    </tr>\n",
       "    <tr>\n",
       "      <th>3</th>\n",
       "      <td>0.984925</td>\n",
       "      <td>0.984925</td>\n",
       "      <td>0.984925</td>\n",
       "      <td>0.015075</td>\n",
       "      <td>0.015075</td>\n",
       "      <td>0.984925</td>\n",
       "      <td>0.998687</td>\n",
       "      <td>196.0</td>\n",
       "      <td>196.0</td>\n",
       "      <td>3.0</td>\n",
       "      <td>3.0</td>\n",
       "    </tr>\n",
       "    <tr>\n",
       "      <th>4</th>\n",
       "      <td>0.969849</td>\n",
       "      <td>0.964824</td>\n",
       "      <td>0.974874</td>\n",
       "      <td>0.025126</td>\n",
       "      <td>0.035176</td>\n",
       "      <td>0.969697</td>\n",
       "      <td>0.993510</td>\n",
       "      <td>192.0</td>\n",
       "      <td>194.0</td>\n",
       "      <td>5.0</td>\n",
       "      <td>7.0</td>\n",
       "    </tr>\n",
       "    <tr>\n",
       "      <th>5</th>\n",
       "      <td>0.994975</td>\n",
       "      <td>0.994975</td>\n",
       "      <td>0.994975</td>\n",
       "      <td>0.005025</td>\n",
       "      <td>0.005025</td>\n",
       "      <td>0.994975</td>\n",
       "      <td>0.999823</td>\n",
       "      <td>198.0</td>\n",
       "      <td>198.0</td>\n",
       "      <td>1.0</td>\n",
       "      <td>1.0</td>\n",
       "    </tr>\n",
       "    <tr>\n",
       "      <th>平均</th>\n",
       "      <td>0.984422</td>\n",
       "      <td>0.984925</td>\n",
       "      <td>0.983920</td>\n",
       "      <td>0.016080</td>\n",
       "      <td>0.015075</td>\n",
       "      <td>0.984411</td>\n",
       "      <td>0.997429</td>\n",
       "      <td>196.0</td>\n",
       "      <td>195.8</td>\n",
       "      <td>3.2</td>\n",
       "      <td>3.0</td>\n",
       "    </tr>\n",
       "  </tbody>\n",
       "</table>\n",
       "</div>"
      ]
     },
     "execution_count": 5,
     "metadata": {},
     "output_type": "execute_result"
    }
   ],
   "execution_count": 5
  },
  {
   "metadata": {
    "ExecuteTime": {
     "end_time": "2025-01-09T14:20:42.078492Z",
     "start_time": "2025-01-09T14:20:33.485403Z"
    }
   },
   "cell_type": "code",
   "source": [
    "# 訓練\n",
    "x_train, x_valid, y_train, y_valid = train_test_split(features, labels, test_size=0.2, stratify=labels, random_state=42)\n",
    "\n",
    "dtrain = lgb.Dataset(x_train, label=y_train, feature_name=features.columns.tolist())\n",
    "dvalid = lgb.Dataset(x_valid, label=y_valid, feature_name=features.columns.tolist())\n",
    "\n",
    "# 訓練\n",
    "model = olgb.train(\n",
    "    params=params,\n",
    "    train_set=dtrain,\n",
    "    valid_sets=[dtrain, dvalid],\n",
    "    callbacks=[lgb.early_stopping(100, verbose=False)],\n",
    "    num_boost_round=10000,\n",
    ")\n",
    "\n",
    "importance = pd.DataFrame(\n",
    "    model.feature_importance(),\n",
    "    index=features.columns.tolist(),\n",
    "    columns=['importance']\n",
    ").sort_values(by='importance', ascending=False)\n",
    "\n",
    "importance"
   ],
   "id": "bc8e5df04d702daa",
   "outputs": [
    {
     "name": "stderr",
     "output_type": "stream",
     "text": [
      "feature_fraction, val_score: 0.040142: 100%|##########| 7/7 [00:00<00:00,  9.67it/s]\n",
      "num_leaves, val_score: 0.039412: 100%|##########| 20/20 [00:02<00:00,  7.00it/s]\n",
      "bagging, val_score: 0.038960: 100%|##########| 10/10 [00:01<00:00,  7.89it/s]\n",
      "feature_fraction_stage2, val_score: 0.038960: 100%|##########| 3/3 [00:00<00:00,  7.67it/s]\n",
      "regularization_factors, val_score: 0.038950: 100%|##########| 20/20 [00:02<00:00,  7.21it/s]\n",
      "min_child_samples, val_score: 0.038950: 100%|##########| 5/5 [00:00<00:00,  9.04it/s]\n"
     ]
    },
    {
     "data": {
      "text/plain": [
       "                        importance\n",
       "TagCountInHeadTag             1619\n",
       "externalLinkPercentage         790\n",
       "noDomainInInternalLink         386\n",
       "samePageLinkCount              312\n",
       "scriptTagCount                 281\n",
       "iframeTagCount                  57\n",
       "googleAnalytics                 46\n",
       "noTitle                         32\n",
       "invalidKiyaku                   22\n",
       "copy                             9\n",
       "ipAddressInLink                  9"
      ],
      "text/html": [
       "<div>\n",
       "<style scoped>\n",
       "    .dataframe tbody tr th:only-of-type {\n",
       "        vertical-align: middle;\n",
       "    }\n",
       "\n",
       "    .dataframe tbody tr th {\n",
       "        vertical-align: top;\n",
       "    }\n",
       "\n",
       "    .dataframe thead th {\n",
       "        text-align: right;\n",
       "    }\n",
       "</style>\n",
       "<table border=\"1\" class=\"dataframe\">\n",
       "  <thead>\n",
       "    <tr style=\"text-align: right;\">\n",
       "      <th></th>\n",
       "      <th>importance</th>\n",
       "    </tr>\n",
       "  </thead>\n",
       "  <tbody>\n",
       "    <tr>\n",
       "      <th>TagCountInHeadTag</th>\n",
       "      <td>1619</td>\n",
       "    </tr>\n",
       "    <tr>\n",
       "      <th>externalLinkPercentage</th>\n",
       "      <td>790</td>\n",
       "    </tr>\n",
       "    <tr>\n",
       "      <th>noDomainInInternalLink</th>\n",
       "      <td>386</td>\n",
       "    </tr>\n",
       "    <tr>\n",
       "      <th>samePageLinkCount</th>\n",
       "      <td>312</td>\n",
       "    </tr>\n",
       "    <tr>\n",
       "      <th>scriptTagCount</th>\n",
       "      <td>281</td>\n",
       "    </tr>\n",
       "    <tr>\n",
       "      <th>iframeTagCount</th>\n",
       "      <td>57</td>\n",
       "    </tr>\n",
       "    <tr>\n",
       "      <th>googleAnalytics</th>\n",
       "      <td>46</td>\n",
       "    </tr>\n",
       "    <tr>\n",
       "      <th>noTitle</th>\n",
       "      <td>32</td>\n",
       "    </tr>\n",
       "    <tr>\n",
       "      <th>invalidKiyaku</th>\n",
       "      <td>22</td>\n",
       "    </tr>\n",
       "    <tr>\n",
       "      <th>copy</th>\n",
       "      <td>9</td>\n",
       "    </tr>\n",
       "    <tr>\n",
       "      <th>ipAddressInLink</th>\n",
       "      <td>9</td>\n",
       "    </tr>\n",
       "  </tbody>\n",
       "</table>\n",
       "</div>"
      ]
     },
     "execution_count": 6,
     "metadata": {},
     "output_type": "execute_result"
    }
   ],
   "execution_count": 6
  },
  {
   "metadata": {
    "ExecuteTime": {
     "end_time": "2025-01-09T14:20:42.373751Z",
     "start_time": "2025-01-09T14:20:42.116884Z"
    }
   },
   "cell_type": "code",
   "source": [
    "# ONNXへの変換\n",
    "initial_type = [\n",
    "    (\"X\", FloatTensorType([None, 11])),\n",
    "]\n",
    "onx = convert_lightgbm(model=model, initial_types=initial_type, zipmap=False)\n",
    "with open(\"../onnx_model/lightgbm.onnx\", \"wb\") as f:\n",
    "    f.write(onx.SerializeToString())"
   ],
   "id": "aa99aef88f39c71b",
   "outputs": [
    {
     "name": "stderr",
     "output_type": "stream",
     "text": [
      "The maximum opset needed by this model is only 9.\n"
     ]
    }
   ],
   "execution_count": 7
  },
  {
   "metadata": {
    "ExecuteTime": {
     "end_time": "2025-01-09T14:20:42.519459Z",
     "start_time": "2025-01-09T14:20:42.394977Z"
    }
   },
   "cell_type": "code",
   "source": [
    "import onnx\n",
    "onnx_model = onnx.load(\"../onnx_model/lightgbm.onnx\")\n",
    "onnx.checker.check_model(onnx_model)"
   ],
   "id": "435afd1968f1fde1",
   "outputs": [],
   "execution_count": 8
  }
 ],
 "metadata": {
  "kernelspec": {
   "display_name": "Python 3",
   "language": "python",
   "name": "python3"
  },
  "language_info": {
   "codemirror_mode": {
    "name": "ipython",
    "version": 2
   },
   "file_extension": ".py",
   "mimetype": "text/x-python",
   "name": "python",
   "nbconvert_exporter": "python",
   "pygments_lexer": "ipython2",
   "version": "2.7.6"
  }
 },
 "nbformat": 4,
 "nbformat_minor": 5
}
