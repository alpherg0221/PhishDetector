{
 "cells": [
  {
   "cell_type": "code",
   "id": "initial_id",
   "metadata": {
    "collapsed": true,
    "ExecuteTime": {
     "end_time": "2025-01-09T14:05:14.832824Z",
     "start_time": "2025-01-09T14:05:13.732021Z"
    }
   },
   "source": [
    "import numpy as np\n",
    "import optuna.logging\n",
    "import pandas as pd\n",
    "\n",
    "from onnxconverter_common import FloatTensorType\n",
    "from onnxmltools.convert import convert_sklearn\n",
    "from sklearn.ensemble import RandomForestClassifier\n",
    "from sklearn.metrics import *\n",
    "from sklearn.model_selection import StratifiedKFold, train_test_split\n",
    "\n",
    "optuna.logging.set_verbosity(optuna.logging.WARNING)"
   ],
   "outputs": [
    {
     "name": "stderr",
     "output_type": "stream",
     "text": [
      "C:\\Users\\yuki\\IdeaProjects\\PhishDetector\\model\\.venv\\Lib\\site-packages\\tqdm\\auto.py:21: TqdmWarning: IProgress not found. Please update jupyter and ipywidgets. See https://ipywidgets.readthedocs.io/en/stable/user_install.html\n",
      "  from .autonotebook import tqdm as notebook_tqdm\n"
     ]
    }
   ],
   "execution_count": 1
  },
  {
   "metadata": {
    "ExecuteTime": {
     "end_time": "2025-01-09T14:05:14.845855Z",
     "start_time": "2025-01-09T14:05:14.836824Z"
    }
   },
   "cell_type": "code",
   "source": [
    "# 特徴量データの読み込み\n",
    "features_and_label: pd.DataFrame = pd.read_csv(\"../feature.csv\").drop(columns=[\"domain\"])\n",
    "\n",
    "# featuresとlabelを分割\n",
    "features = features_and_label.drop(\"label\", axis=1)\n",
    "labels = features_and_label[[\"label\"]]"
   ],
   "id": "fc170f6dd7c4ad54",
   "outputs": [],
   "execution_count": 2
  },
  {
   "metadata": {
    "ExecuteTime": {
     "end_time": "2025-01-09T14:05:15.514723Z",
     "start_time": "2025-01-09T14:05:14.918847Z"
    }
   },
   "cell_type": "code",
   "source": [
    "# Stratified 5-fold CV\n",
    "\n",
    "cv_scores_columns = [\"accuracy\", \"TPR\", \"TNR\", \"FPR\", \"FNR\", \"F1\", \"AUC\", \"TP\", \"TN\", \"FP\", \"FN\"]\n",
    "history = np.empty((0, 11))\n",
    "\n",
    "kf = StratifiedKFold(n_splits=5, shuffle=True, random_state=42)\n",
    "\n",
    "for train_idx, test_idx in kf.split(features, labels):\n",
    "    x_train: pd.DataFrame = features.iloc[train_idx, :]  # 学習用特徴量\n",
    "    y_train: pd.DataFrame = labels.iloc[train_idx, 0]  # 学習用ラベル\n",
    "    x_test: pd.DataFrame = features.iloc[test_idx, :]  # テスト用特徴量\n",
    "    y_test: pd.DataFrame = labels.iloc[test_idx, 0]  # テスト用ラベル\n",
    "\n",
    "    # 訓練\n",
    "    model = RandomForestClassifier()\n",
    "    model.fit(x_train, y_train)\n",
    "\n",
    "    # 予測\n",
    "    label_pred_prob = model.predict_proba(x_test)[:, 1]\n",
    "    label_pred = (label_pred_prob > 0.5).astype(int)\n",
    "\n",
    "    # 評価指標の計算\n",
    "    tn, fp, fn, tp = confusion_matrix(y_test, label_pred).flatten()\n",
    "    acc = accuracy_score(y_test, label_pred)\n",
    "    tpr = tp / (tp + fn)  # recall\n",
    "    tnr = tn / (tn + fp)  # specificity\n",
    "    fpr = fp / (tn + fp)\n",
    "    fnr = fn / (tp + fn)\n",
    "    f1 = f1_score(y_test, label_pred)\n",
    "    auc = roc_auc_score(y_test, label_pred_prob)\n",
    "\n",
    "    # 評価結果の格納\n",
    "    history = np.vstack([history, [acc, tpr, tnr, fpr, fnr, f1, auc, tp, tn, fp, fn]])"
   ],
   "id": "3a100ee828876df7",
   "outputs": [],
   "execution_count": 3
  },
  {
   "metadata": {
    "ExecuteTime": {
     "end_time": "2025-01-09T14:05:15.551561Z",
     "start_time": "2025-01-09T14:05:15.534095Z"
    }
   },
   "cell_type": "code",
   "source": [
    "mean = np.mean(history, axis=0)\n",
    "history_final = np.vstack([history, mean])\n",
    "\n",
    "df_cv_scores = pd.DataFrame(history_final, columns=cv_scores_columns, index=[\"1\", \"2\", \"3\", \"4\", \"5\", \"平均\"])\n",
    "df_cv_scores"
   ],
   "id": "58fb993f327ace3c",
   "outputs": [
    {
     "data": {
      "text/plain": [
       "    accuracy       TPR       TNR       FPR       FNR        F1       AUC  \\\n",
       "1   0.987437  0.989950  0.984925  0.015075  0.010050  0.987469  0.999015   \n",
       "2   0.987437  0.994975  0.979899  0.020101  0.005025  0.987531  0.999571   \n",
       "3   0.984925  0.984925  0.984925  0.015075  0.015075  0.984925  0.999280   \n",
       "4   0.977387  0.969849  0.984925  0.015075  0.030151  0.977215  0.993889   \n",
       "5   0.979899  0.994975  0.964824  0.035176  0.005025  0.980198  0.999722   \n",
       "平均  0.983417  0.986935  0.979899  0.020101  0.013065  0.983468  0.998295   \n",
       "\n",
       "       TP     TN   FP   FN  \n",
       "1   197.0  196.0  3.0  2.0  \n",
       "2   198.0  195.0  4.0  1.0  \n",
       "3   196.0  196.0  3.0  3.0  \n",
       "4   193.0  196.0  3.0  6.0  \n",
       "5   198.0  192.0  7.0  1.0  \n",
       "平均  196.4  195.0  4.0  2.6  "
      ],
      "text/html": [
       "<div>\n",
       "<style scoped>\n",
       "    .dataframe tbody tr th:only-of-type {\n",
       "        vertical-align: middle;\n",
       "    }\n",
       "\n",
       "    .dataframe tbody tr th {\n",
       "        vertical-align: top;\n",
       "    }\n",
       "\n",
       "    .dataframe thead th {\n",
       "        text-align: right;\n",
       "    }\n",
       "</style>\n",
       "<table border=\"1\" class=\"dataframe\">\n",
       "  <thead>\n",
       "    <tr style=\"text-align: right;\">\n",
       "      <th></th>\n",
       "      <th>accuracy</th>\n",
       "      <th>TPR</th>\n",
       "      <th>TNR</th>\n",
       "      <th>FPR</th>\n",
       "      <th>FNR</th>\n",
       "      <th>F1</th>\n",
       "      <th>AUC</th>\n",
       "      <th>TP</th>\n",
       "      <th>TN</th>\n",
       "      <th>FP</th>\n",
       "      <th>FN</th>\n",
       "    </tr>\n",
       "  </thead>\n",
       "  <tbody>\n",
       "    <tr>\n",
       "      <th>1</th>\n",
       "      <td>0.987437</td>\n",
       "      <td>0.989950</td>\n",
       "      <td>0.984925</td>\n",
       "      <td>0.015075</td>\n",
       "      <td>0.010050</td>\n",
       "      <td>0.987469</td>\n",
       "      <td>0.999015</td>\n",
       "      <td>197.0</td>\n",
       "      <td>196.0</td>\n",
       "      <td>3.0</td>\n",
       "      <td>2.0</td>\n",
       "    </tr>\n",
       "    <tr>\n",
       "      <th>2</th>\n",
       "      <td>0.987437</td>\n",
       "      <td>0.994975</td>\n",
       "      <td>0.979899</td>\n",
       "      <td>0.020101</td>\n",
       "      <td>0.005025</td>\n",
       "      <td>0.987531</td>\n",
       "      <td>0.999571</td>\n",
       "      <td>198.0</td>\n",
       "      <td>195.0</td>\n",
       "      <td>4.0</td>\n",
       "      <td>1.0</td>\n",
       "    </tr>\n",
       "    <tr>\n",
       "      <th>3</th>\n",
       "      <td>0.984925</td>\n",
       "      <td>0.984925</td>\n",
       "      <td>0.984925</td>\n",
       "      <td>0.015075</td>\n",
       "      <td>0.015075</td>\n",
       "      <td>0.984925</td>\n",
       "      <td>0.999280</td>\n",
       "      <td>196.0</td>\n",
       "      <td>196.0</td>\n",
       "      <td>3.0</td>\n",
       "      <td>3.0</td>\n",
       "    </tr>\n",
       "    <tr>\n",
       "      <th>4</th>\n",
       "      <td>0.977387</td>\n",
       "      <td>0.969849</td>\n",
       "      <td>0.984925</td>\n",
       "      <td>0.015075</td>\n",
       "      <td>0.030151</td>\n",
       "      <td>0.977215</td>\n",
       "      <td>0.993889</td>\n",
       "      <td>193.0</td>\n",
       "      <td>196.0</td>\n",
       "      <td>3.0</td>\n",
       "      <td>6.0</td>\n",
       "    </tr>\n",
       "    <tr>\n",
       "      <th>5</th>\n",
       "      <td>0.979899</td>\n",
       "      <td>0.994975</td>\n",
       "      <td>0.964824</td>\n",
       "      <td>0.035176</td>\n",
       "      <td>0.005025</td>\n",
       "      <td>0.980198</td>\n",
       "      <td>0.999722</td>\n",
       "      <td>198.0</td>\n",
       "      <td>192.0</td>\n",
       "      <td>7.0</td>\n",
       "      <td>1.0</td>\n",
       "    </tr>\n",
       "    <tr>\n",
       "      <th>平均</th>\n",
       "      <td>0.983417</td>\n",
       "      <td>0.986935</td>\n",
       "      <td>0.979899</td>\n",
       "      <td>0.020101</td>\n",
       "      <td>0.013065</td>\n",
       "      <td>0.983468</td>\n",
       "      <td>0.998295</td>\n",
       "      <td>196.4</td>\n",
       "      <td>195.0</td>\n",
       "      <td>4.0</td>\n",
       "      <td>2.6</td>\n",
       "    </tr>\n",
       "  </tbody>\n",
       "</table>\n",
       "</div>"
      ]
     },
     "execution_count": 4,
     "metadata": {},
     "output_type": "execute_result"
    }
   ],
   "execution_count": 4
  },
  {
   "metadata": {
    "ExecuteTime": {
     "end_time": "2025-01-09T14:05:15.722273Z",
     "start_time": "2025-01-09T14:05:15.594946Z"
    }
   },
   "cell_type": "code",
   "source": [
    "# 訓練\n",
    "x_train, x_valid, y_train, y_valid = train_test_split(features, labels, test_size=0.2, stratify=labels, random_state=42)\n",
    "\n",
    "# 訓練\n",
    "model = RandomForestClassifier()\n",
    "model.fit(x_train, y_train.iloc[:, 0])\n",
    "\n",
    "importance = pd.DataFrame(\n",
    "    model.feature_importances_,\n",
    "    index=features.columns.tolist(),\n",
    "    columns=['importance']\n",
    ").sort_values(by='importance', ascending=False)\n",
    "\n",
    "importance"
   ],
   "id": "bc8e5df04d702daa",
   "outputs": [
    {
     "data": {
      "text/plain": [
       "                        importance\n",
       "scriptTagCount            0.312112\n",
       "noDomainInInternalLink    0.248225\n",
       "externalLinkPercentage    0.197236\n",
       "TagCountInHeadTag         0.081770\n",
       "googleAnalytics           0.051692\n",
       "iframeTagCount            0.049138\n",
       "samePageLinkCount         0.046150\n",
       "noTitle                   0.006899\n",
       "copy                      0.005526\n",
       "invalidKiyaku             0.000669\n",
       "ipAddressInLink           0.000583"
      ],
      "text/html": [
       "<div>\n",
       "<style scoped>\n",
       "    .dataframe tbody tr th:only-of-type {\n",
       "        vertical-align: middle;\n",
       "    }\n",
       "\n",
       "    .dataframe tbody tr th {\n",
       "        vertical-align: top;\n",
       "    }\n",
       "\n",
       "    .dataframe thead th {\n",
       "        text-align: right;\n",
       "    }\n",
       "</style>\n",
       "<table border=\"1\" class=\"dataframe\">\n",
       "  <thead>\n",
       "    <tr style=\"text-align: right;\">\n",
       "      <th></th>\n",
       "      <th>importance</th>\n",
       "    </tr>\n",
       "  </thead>\n",
       "  <tbody>\n",
       "    <tr>\n",
       "      <th>scriptTagCount</th>\n",
       "      <td>0.312112</td>\n",
       "    </tr>\n",
       "    <tr>\n",
       "      <th>noDomainInInternalLink</th>\n",
       "      <td>0.248225</td>\n",
       "    </tr>\n",
       "    <tr>\n",
       "      <th>externalLinkPercentage</th>\n",
       "      <td>0.197236</td>\n",
       "    </tr>\n",
       "    <tr>\n",
       "      <th>TagCountInHeadTag</th>\n",
       "      <td>0.081770</td>\n",
       "    </tr>\n",
       "    <tr>\n",
       "      <th>googleAnalytics</th>\n",
       "      <td>0.051692</td>\n",
       "    </tr>\n",
       "    <tr>\n",
       "      <th>iframeTagCount</th>\n",
       "      <td>0.049138</td>\n",
       "    </tr>\n",
       "    <tr>\n",
       "      <th>samePageLinkCount</th>\n",
       "      <td>0.046150</td>\n",
       "    </tr>\n",
       "    <tr>\n",
       "      <th>noTitle</th>\n",
       "      <td>0.006899</td>\n",
       "    </tr>\n",
       "    <tr>\n",
       "      <th>copy</th>\n",
       "      <td>0.005526</td>\n",
       "    </tr>\n",
       "    <tr>\n",
       "      <th>invalidKiyaku</th>\n",
       "      <td>0.000669</td>\n",
       "    </tr>\n",
       "    <tr>\n",
       "      <th>ipAddressInLink</th>\n",
       "      <td>0.000583</td>\n",
       "    </tr>\n",
       "  </tbody>\n",
       "</table>\n",
       "</div>"
      ]
     },
     "execution_count": 5,
     "metadata": {},
     "output_type": "execute_result"
    }
   ],
   "execution_count": 5
  },
  {
   "metadata": {
    "ExecuteTime": {
     "end_time": "2025-01-09T14:05:16.387794Z",
     "start_time": "2025-01-09T14:05:15.750259Z"
    }
   },
   "cell_type": "code",
   "source": [
    "# ONNXへの変換\n",
    "initial_type = [\n",
    "    (\"X\", FloatTensorType([None, 11])),\n",
    "]\n",
    "onx = convert_sklearn(model=model, initial_types=initial_type)\n",
    "with open(\"../onnx_model/rf.onnx\", \"wb\") as f:\n",
    "    f.write(onx.SerializeToString())"
   ],
   "id": "aa99aef88f39c71b",
   "outputs": [],
   "execution_count": 6
  },
  {
   "metadata": {
    "ExecuteTime": {
     "end_time": "2025-01-09T14:05:16.541658Z",
     "start_time": "2025-01-09T14:05:16.393793Z"
    }
   },
   "cell_type": "code",
   "source": [
    "import onnx\n",
    "onnx_model = onnx.load(\"../onnx_model/rf.onnx\")\n",
    "onnx.checker.check_model(onnx_model)"
   ],
   "id": "435afd1968f1fde1",
   "outputs": [],
   "execution_count": 7
  }
 ],
 "metadata": {
  "kernelspec": {
   "display_name": "Python 3",
   "language": "python",
   "name": "python3"
  },
  "language_info": {
   "codemirror_mode": {
    "name": "ipython",
    "version": 2
   },
   "file_extension": ".py",
   "mimetype": "text/x-python",
   "name": "python",
   "nbconvert_exporter": "python",
   "pygments_lexer": "ipython2",
   "version": "2.7.6"
  }
 },
 "nbformat": 4,
 "nbformat_minor": 5
}
